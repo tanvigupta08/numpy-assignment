{
  "nbformat": 4,
  "nbformat_minor": 0,
  "metadata": {
    "colab": {
      "provenance": []
    },
    "kernelspec": {
      "name": "python3",
      "display_name": "Python 3"
    },
    "language_info": {
      "name": "python"
    }
  },
  "cells": [
    {
      "cell_type": "code",
      "execution_count": null,
      "metadata": {
        "colab": {
          "base_uri": "https://localhost:8080/"
        },
        "id": "7tCx5l2Td_t-",
        "outputId": "987d2da9-4a52-4c57-86fe-547438c2cd8c"
      },
      "outputs": [
        {
          "output_type": "stream",
          "name": "stdout",
          "text": [
            "Object `operations` not found.\n"
          ]
        }
      ],
      "source": [
        "#q1 Explain the purpose and advantages of NumPy in scientific computing and data analysis. How does it\n",
        "enhance Python's capabilities for numerical operations?\n",
        "#ans. numpy is referred to as numerical python. it stores the data in the numpy array. the advantage of numpy is that its computation is very fast because it contains homogeneous data.it is stored in continuous memory location.\n",
        "\n",
        "\n"
      ]
    },
    {
      "cell_type": "markdown",
      "source": [
        "q2Compare and contrast np.mean() and np.average() functions in NumPy. When would you use one over the\n",
        "other?\n",
        "\n",
        "ans. np.mean() takes in account masks, so compute the mean only over unmasked values and np.average() do not take in account masks so compute the average over the whole set of data."
      ],
      "metadata": {
        "id": "oXXatYcJeFNy"
      }
    },
    {
      "cell_type": "markdown",
      "source": [
        "q3. Describe the methods for reversing a NumPy array along different axes. Provide examples for 1D and 2D\n",
        "arrays.\n",
        "\n",
        "\n",
        "ans 1. by using np.flip()\n",
        "2. using a list slicing method"
      ],
      "metadata": {
        "id": "I8W00tcLg5Nf"
      }
    },
    {
      "cell_type": "code",
      "source": [
        "import numpy as np\n",
        "arr = np.array([1, 2, 3, 4, 5])\n",
        "res = np.flip(arr)\n",
        "print (\"final array\",str(res))"
      ],
      "metadata": {
        "colab": {
          "base_uri": "https://localhost:8080/"
        },
        "id": "8P0Z3A1GiOvi",
        "outputId": "58af1a96-22ab-4889-c52a-53a0230ae6c1"
      },
      "execution_count": null,
      "outputs": [
        {
          "output_type": "stream",
          "name": "stdout",
          "text": [
            "final array [5 4 3 2 1]\n"
          ]
        }
      ]
    },
    {
      "cell_type": "code",
      "source": [
        "import numpy as np\n",
        "arr = np.array([1, 2, 3, 4])\n",
        "print(\"arr\", str(arr))\n",
        "print (\"type of arr\", type(arr))\n",
        "res = arr[::-1]\n",
        "print(\"final array\" , str(res))"
      ],
      "metadata": {
        "colab": {
          "base_uri": "https://localhost:8080/"
        },
        "id": "NEXaa4bki5Ki",
        "outputId": "3defdd01-ef68-430d-c0ba-3e24494b26b4"
      },
      "execution_count": null,
      "outputs": [
        {
          "output_type": "stream",
          "name": "stdout",
          "text": [
            "arr [1 2 3 4]\n",
            "type of arr <class 'numpy.ndarray'>\n",
            "final array [4 3 2 1]\n"
          ]
        }
      ]
    },
    {
      "cell_type": "markdown",
      "source": [
        "q4 How can you determine the data type of elements in a NumPy array? Discuss the importance of data types\n",
        "in memory management and performance.\n",
        "ans.we can determine the data type of elements present in numpy array by using dtype attribute."
      ],
      "metadata": {
        "id": "N4ZlfkZ4lcPm"
      }
    },
    {
      "cell_type": "code",
      "source": [
        "import numpy as np\n",
        "arr = np.array([[5,6,7],[8,9,0]])\n",
        "arr.dtype"
      ],
      "metadata": {
        "colab": {
          "base_uri": "https://localhost:8080/"
        },
        "id": "0G90z37S1fdh",
        "outputId": "78161385-41fc-4ea6-9b1e-13befb65db2a"
      },
      "execution_count": null,
      "outputs": [
        {
          "output_type": "execute_result",
          "data": {
            "text/plain": [
              "dtype('int64')"
            ]
          },
          "metadata": {},
          "execution_count": 3
        }
      ]
    },
    {
      "cell_type": "markdown",
      "source": [
        "q5  Define ndarrays in NumPy and explain their key features. How do they differ from standard Python lists?\n",
        "\n",
        "ans. An ndarray is a (usually fixed-size) multidimensional container of items of the same type and size. The number of dimensions and items in an array is defined by its shape , which is a tuple of N non-negative integers that specify the sizes of each dimension.\n",
        "The main difference is that NumPy arrays are much faster and have strict requirements on the homogeneity of the objects. For example, a NumPy array of strings can only contain strings and no other data types, but a Python list can contain a mixture of strings, numbers, booleans and other objects."
      ],
      "metadata": {
        "id": "otCsNvdS2K5e"
      }
    },
    {
      "cell_type": "markdown",
      "source": [
        "q6 Analyze the performance benefits of NumPy arrays over Python lists for large-scale numerical operations\n",
        "\n",
        "ans NumPy arrays provide a significant speed advantage over python lists. in numpy operations are applied to all elements in an array without the need for explicit loops in Python."
      ],
      "metadata": {
        "id": "M3wxOd935Zt7"
      }
    },
    {
      "cell_type": "markdown",
      "source": [
        "q7  Compare vstack() and hstack() functions in NumPy. Provide examples demonstrating their usage and\n",
        "output.\n",
        "\n",
        "ans If the axis is set to 0, it works as vstack and if the axis is 1, it works as hstack"
      ],
      "metadata": {
        "id": "x8rFyn-76PNf"
      }
    },
    {
      "cell_type": "code",
      "source": [
        "#hstack\n",
        "import numpy as np\n",
        "A = np.ones((2,2),int)\n",
        "B= np.zeros((2,4),int)\n",
        "print(\"A:\",A,\"\\n\",\"B:\",B)"
      ],
      "metadata": {
        "colab": {
          "base_uri": "https://localhost:8080/"
        },
        "id": "KixU18b1FOu9",
        "outputId": "03a8375d-f17d-4f9a-d3f2-f0a0bc8aa2b2"
      },
      "execution_count": null,
      "outputs": [
        {
          "output_type": "stream",
          "name": "stdout",
          "text": [
            "A: [[1 1]\n",
            " [1 1]] \n",
            " B: [[0 0 0 0]\n",
            " [0 0 0 0]]\n"
          ]
        }
      ]
    },
    {
      "cell_type": "code",
      "source": [
        "hstack = np.hstack((A,B))\n",
        "print(hstack)"
      ],
      "metadata": {
        "colab": {
          "base_uri": "https://localhost:8080/"
        },
        "id": "2uBnPM9Q1k1R",
        "outputId": "89a0fb0a-33b6-434d-c7d3-3e3508d62a60"
      },
      "execution_count": null,
      "outputs": [
        {
          "output_type": "stream",
          "name": "stdout",
          "text": [
            "[[1 1 0 0 0 0]\n",
            " [1 1 0 0 0 0]]\n"
          ]
        }
      ]
    },
    {
      "cell_type": "code",
      "source": [
        "#vstack\n",
        "A = np.ones((3,4))\n",
        "B = np.zeros((2,4))\n",
        "print(\"A:\",A,\"\\n\",\"B:\",B)"
      ],
      "metadata": {
        "colab": {
          "base_uri": "https://localhost:8080/"
        },
        "id": "_mP3Gu0dFgGp",
        "outputId": "79435cab-8a36-4d73-d2d4-af9da8b053ce"
      },
      "execution_count": null,
      "outputs": [
        {
          "output_type": "stream",
          "name": "stdout",
          "text": [
            "A: [[1. 1. 1. 1.]\n",
            " [1. 1. 1. 1.]\n",
            " [1. 1. 1. 1.]] \n",
            " B: [[0. 0. 0. 0.]\n",
            " [0. 0. 0. 0.]]\n"
          ]
        }
      ]
    },
    {
      "cell_type": "code",
      "source": [
        "vstack = np.vstack((A,B))\n",
        "print(vstack)"
      ],
      "metadata": {
        "colab": {
          "base_uri": "https://localhost:8080/"
        },
        "id": "a2PqRlTPFvXV",
        "outputId": "4d143a3f-fa86-44a1-fec7-c07c39501956"
      },
      "execution_count": null,
      "outputs": [
        {
          "output_type": "stream",
          "name": "stdout",
          "text": [
            "[[1. 1. 1. 1.]\n",
            " [1. 1. 1. 1.]\n",
            " [1. 1. 1. 1.]\n",
            " [0. 0. 0. 0.]\n",
            " [0. 0. 0. 0.]]\n"
          ]
        }
      ]
    },
    {
      "cell_type": "markdown",
      "source": [
        "8. Explain the differences between fliplr() and flipud() methods in NumPy, including their effects on various\n",
        "array dimensions.\n",
        "\n",
        "ans flipud() specialized for vertical flipping and numpy. fliplr() specialized for horizontal flipping"
      ],
      "metadata": {
        "id": "DoQCE-2gF2xH"
      }
    },
    {
      "cell_type": "markdown",
      "source": [
        "q9 Discuss the functionality of the array_split() method in NumPy. How does it handle uneven splits\n",
        "\n",
        "ans.array_split() function allows uneven splits and handles any remaining elements. Efficiency: While numpy. split() divides the array into equal-sized sub-arrays, numpy. array_split() can handle uneven splits."
      ],
      "metadata": {
        "id": "cG5nL5PzIbGj"
      }
    },
    {
      "cell_type": "markdown",
      "source": [
        "q10 Explain the concepts of vectorization and broadcasting in NumPy. How do they contribute to efficient array\n",
        "operations?\n",
        "\n",
        "ans. broadcasting provides a means of vectorizing array operations, therefore eliminating the need for Python loops. This is because NumPy is implemented in C Programming, which is a very efficient language. It does this without making needless copies of data which leads to efficient algorithm implementations."
      ],
      "metadata": {
        "id": "FZXFukbzIuWx"
      }
    },
    {
      "cell_type": "markdown",
      "source": [
        "#practical questions\n",
        "1. Create a 3x3 NumPy array with random integers between 1 and 100. Then, interchange its rows and columns."
      ],
      "metadata": {
        "id": "UNS_tbkKNcl-"
      }
    },
    {
      "cell_type": "code",
      "source": [
        "import numpy as np\n",
        "arr = np.random.randint(1,100, (3,3))\n",
        "arr"
      ],
      "metadata": {
        "id": "-8euCHjFFzgE",
        "colab": {
          "base_uri": "https://localhost:8080/"
        },
        "outputId": "2e7862bd-459b-4269-ec40-3fc18fd852c9"
      },
      "execution_count": null,
      "outputs": [
        {
          "output_type": "execute_result",
          "data": {
            "text/plain": [
              "array([[90, 93,  9],\n",
              "       [97, 15,  3],\n",
              "       [ 8, 80,  7]])"
            ]
          },
          "metadata": {},
          "execution_count": 6
        }
      ]
    },
    {
      "cell_type": "code",
      "source": [
        "arr.T"
      ],
      "metadata": {
        "colab": {
          "base_uri": "https://localhost:8080/"
        },
        "id": "hElUmWR0PBfW",
        "outputId": "3cc6970d-f06f-495c-ac8f-32113dc40245"
      },
      "execution_count": null,
      "outputs": [
        {
          "output_type": "execute_result",
          "data": {
            "text/plain": [
              "array([[90, 97,  8],\n",
              "       [93, 15, 80],\n",
              "       [ 9,  3,  7]])"
            ]
          },
          "metadata": {},
          "execution_count": 7
        }
      ]
    },
    {
      "cell_type": "markdown",
      "source": [
        "2. Generate a 1D NumPy array with 10 elements. Reshape it into a 2x5 array, then into a 5x2 array."
      ],
      "metadata": {
        "id": "YG6sl4rWPnFc"
      }
    },
    {
      "cell_type": "code",
      "source": [
        "l = [1,2,3,4,5,6,7,8,9,10]\n",
        "arr = np.array(l)\n",
        "arr"
      ],
      "metadata": {
        "colab": {
          "base_uri": "https://localhost:8080/"
        },
        "id": "CI6uP2mAPjZa",
        "outputId": "893baf36-c8c8-41ee-87fb-f8d5741e3425"
      },
      "execution_count": null,
      "outputs": [
        {
          "output_type": "execute_result",
          "data": {
            "text/plain": [
              "array([ 1,  2,  3,  4,  5,  6,  7,  8,  9, 10])"
            ]
          },
          "metadata": {},
          "execution_count": 8
        }
      ]
    },
    {
      "cell_type": "code",
      "source": [
        "arr.reshape(2,5)"
      ],
      "metadata": {
        "colab": {
          "base_uri": "https://localhost:8080/"
        },
        "id": "g7CixRzqTDj_",
        "outputId": "6895200c-5d29-4bd5-b946-a98280de1572"
      },
      "execution_count": null,
      "outputs": [
        {
          "output_type": "execute_result",
          "data": {
            "text/plain": [
              "array([[ 1,  2,  3,  4,  5],\n",
              "       [ 6,  7,  8,  9, 10]])"
            ]
          },
          "metadata": {},
          "execution_count": 9
        }
      ]
    },
    {
      "cell_type": "code",
      "source": [
        "arr.reshape(5,2)"
      ],
      "metadata": {
        "colab": {
          "base_uri": "https://localhost:8080/"
        },
        "id": "mv7MAZ8rTQ0U",
        "outputId": "e7cc333c-1c25-4931-ebe1-9ca67a3b6927"
      },
      "execution_count": null,
      "outputs": [
        {
          "output_type": "execute_result",
          "data": {
            "text/plain": [
              "array([[ 1,  2],\n",
              "       [ 3,  4],\n",
              "       [ 5,  6],\n",
              "       [ 7,  8],\n",
              "       [ 9, 10]])"
            ]
          },
          "metadata": {},
          "execution_count": 10
        }
      ]
    },
    {
      "cell_type": "markdown",
      "source": [
        "3. Create a 4x4 NumPy array with random float values. Add a border of zeros around it, resulting in a 6x6 array."
      ],
      "metadata": {
        "id": "l0bPfyk0TZbo"
      }
    },
    {
      "cell_type": "code",
      "source": [
        "arr = np.random.rand(4,4)\n",
        "arr"
      ],
      "metadata": {
        "colab": {
          "base_uri": "https://localhost:8080/"
        },
        "id": "rWM-9oKFTWo_",
        "outputId": "b75a38e3-a7bf-452f-b380-0c61b79769f4"
      },
      "execution_count": null,
      "outputs": [
        {
          "output_type": "execute_result",
          "data": {
            "text/plain": [
              "array([[0.21678148, 0.67734238, 0.52026398, 0.71678011],\n",
              "       [0.76764244, 0.04102926, 0.96553185, 0.0946837 ],\n",
              "       [0.67181835, 0.52211141, 0.01212244, 0.83792272],\n",
              "       [0.99247883, 0.49627463, 0.98657187, 0.47887523]])"
            ]
          },
          "metadata": {},
          "execution_count": 12
        }
      ]
    },
    {
      "cell_type": "code",
      "source": [
        "arr = np.pad(arr, pad_width=1, mode='constant',\n",
        "               constant_values=0)\n",
        "print(arr)\n"
      ],
      "metadata": {
        "colab": {
          "base_uri": "https://localhost:8080/"
        },
        "id": "kpQ50vGvWjcx",
        "outputId": "0e2dfab6-a0fd-45ef-ca79-c07fe12f4f5a"
      },
      "execution_count": null,
      "outputs": [
        {
          "output_type": "stream",
          "name": "stdout",
          "text": [
            "[[0.         0.         0.         0.         0.         0.\n",
            "  0.         0.        ]\n",
            " [0.         0.         0.         0.         0.         0.\n",
            "  0.         0.        ]\n",
            " [0.         0.         0.21678148 0.67734238 0.52026398 0.71678011\n",
            "  0.         0.        ]\n",
            " [0.         0.         0.76764244 0.04102926 0.96553185 0.0946837\n",
            "  0.         0.        ]\n",
            " [0.         0.         0.67181835 0.52211141 0.01212244 0.83792272\n",
            "  0.         0.        ]\n",
            " [0.         0.         0.99247883 0.49627463 0.98657187 0.47887523\n",
            "  0.         0.        ]\n",
            " [0.         0.         0.         0.         0.         0.\n",
            "  0.         0.        ]\n",
            " [0.         0.         0.         0.         0.         0.\n",
            "  0.         0.        ]]\n"
          ]
        }
      ]
    },
    {
      "cell_type": "markdown",
      "source": [
        "4. Using NumPy, create an array of integers from 10 to 60 with a step of 5.\n",
        "\n",
        "\n"
      ],
      "metadata": {
        "id": "e7Un6aN1YD1f"
      }
    },
    {
      "cell_type": "code",
      "source": [
        "array = np.arange(10, 61, 5)\n",
        "array"
      ],
      "metadata": {
        "colab": {
          "base_uri": "https://localhost:8080/"
        },
        "id": "WV_nm7egXJAv",
        "outputId": "94f5300e-f53c-4398-cb87-0835f69c3161"
      },
      "execution_count": null,
      "outputs": [
        {
          "output_type": "execute_result",
          "data": {
            "text/plain": [
              "array([10, 15, 20, 25, 30, 35, 40, 45, 50, 55, 60])"
            ]
          },
          "metadata": {},
          "execution_count": 17
        }
      ]
    },
    {
      "cell_type": "markdown",
      "source": [
        "5. Create a NumPy array of strings ['python', 'numpy', 'pandas']. Apply different case transformations\n",
        "(uppercase, lowercase, title case, etc.) to each element."
      ],
      "metadata": {
        "id": "BgZeGklPbDT3"
      }
    },
    {
      "cell_type": "code",
      "source": [
        "arr = [\"python\", \"numpy\", \"pandas\"]\n",
        "arr = np.array(arr)\n",
        "arr"
      ],
      "metadata": {
        "colab": {
          "base_uri": "https://localhost:8080/"
        },
        "id": "eAahwSdma6dX",
        "outputId": "a12bff9a-0528-45f0-e173-a645a9c3692a"
      },
      "execution_count": null,
      "outputs": [
        {
          "output_type": "execute_result",
          "data": {
            "text/plain": [
              "array(['python', 'numpy', 'pandas'], dtype='<U6')"
            ]
          },
          "metadata": {},
          "execution_count": 20
        }
      ]
    },
    {
      "cell_type": "code",
      "source": [
        "np.char.upper(arr)"
      ],
      "metadata": {
        "colab": {
          "base_uri": "https://localhost:8080/"
        },
        "id": "4nbgWkcXb4GY",
        "outputId": "b20597cc-1c0b-49d9-f608-c89094ab5031"
      },
      "execution_count": null,
      "outputs": [
        {
          "output_type": "execute_result",
          "data": {
            "text/plain": [
              "array(['PYTHON', 'NUMPY', 'PANDAS'], dtype='<U6')"
            ]
          },
          "metadata": {},
          "execution_count": 22
        }
      ]
    },
    {
      "cell_type": "code",
      "source": [
        "np.char.lower(arr)"
      ],
      "metadata": {
        "colab": {
          "base_uri": "https://localhost:8080/"
        },
        "id": "p3DZu1xncfDn",
        "outputId": "608451aa-5a35-475b-e392-b4ac0a6140ff"
      },
      "execution_count": null,
      "outputs": [
        {
          "output_type": "execute_result",
          "data": {
            "text/plain": [
              "array(['python', 'numpy', 'pandas'], dtype='<U6')"
            ]
          },
          "metadata": {},
          "execution_count": 23
        }
      ]
    },
    {
      "cell_type": "code",
      "source": [
        "np.char.title(arr)"
      ],
      "metadata": {
        "colab": {
          "base_uri": "https://localhost:8080/"
        },
        "id": "jzDGBFkEc0IS",
        "outputId": "e4524e73-2dc1-4634-9d86-d4c06c0ae421"
      },
      "execution_count": null,
      "outputs": [
        {
          "output_type": "execute_result",
          "data": {
            "text/plain": [
              "array(['Python', 'Numpy', 'Pandas'], dtype='<U6')"
            ]
          },
          "metadata": {},
          "execution_count": 24
        }
      ]
    },
    {
      "cell_type": "markdown",
      "source": [
        "6. Generate a NumPy array of words. Insert a space between each character of every word in the array."
      ],
      "metadata": {
        "id": "Y51jEDVDc7z2"
      }
    },
    {
      "cell_type": "code",
      "source": [
        "import numpy as np\n",
        "r = ([\"sandy\" , \"krish\" , \"manya\"])\n",
        "\n",
        "x = np.char.join(\" \", r)\n",
        "print (x)"
      ],
      "metadata": {
        "id": "Mh6hXDa5c4vv",
        "colab": {
          "base_uri": "https://localhost:8080/"
        },
        "outputId": "b8a797d2-784c-44ef-e8c8-c2a0286ea4d0"
      },
      "execution_count": 3,
      "outputs": [
        {
          "output_type": "stream",
          "name": "stdout",
          "text": [
            "['s a n d y' 'k r i s h' 'm a n y a']\n"
          ]
        }
      ]
    },
    {
      "cell_type": "markdown",
      "source": [
        "7. Create two 2D NumPy arrays and perform element-wise addition, subtraction, multiplication, and division."
      ],
      "metadata": {
        "id": "vVesebhNLJzP"
      }
    },
    {
      "cell_type": "code",
      "source": [
        "arr1 = np.random.randint(1,3,(3,3))\n",
        "arr2 = np.random.randint(1,3,(3,3))\n",
        "arr1"
      ],
      "metadata": {
        "colab": {
          "base_uri": "https://localhost:8080/"
        },
        "id": "BvS7XK2rK25R",
        "outputId": "6fdb667c-a714-4fdb-c058-6c2da2d1de77"
      },
      "execution_count": 4,
      "outputs": [
        {
          "output_type": "execute_result",
          "data": {
            "text/plain": [
              "array([[1, 2, 2],\n",
              "       [1, 1, 2],\n",
              "       [1, 1, 1]])"
            ]
          },
          "metadata": {},
          "execution_count": 4
        }
      ]
    },
    {
      "cell_type": "code",
      "source": [
        "arr2"
      ],
      "metadata": {
        "colab": {
          "base_uri": "https://localhost:8080/"
        },
        "id": "AHTlV1P-Mgut",
        "outputId": "ae328862-aedf-467e-8bba-56aa4333da3a"
      },
      "execution_count": 5,
      "outputs": [
        {
          "output_type": "execute_result",
          "data": {
            "text/plain": [
              "array([[2, 2, 2],\n",
              "       [1, 1, 2],\n",
              "       [1, 2, 1]])"
            ]
          },
          "metadata": {},
          "execution_count": 5
        }
      ]
    },
    {
      "cell_type": "code",
      "source": [
        "arr1 + arr2"
      ],
      "metadata": {
        "colab": {
          "base_uri": "https://localhost:8080/"
        },
        "id": "ans-RjasM2bp",
        "outputId": "5bebdc13-5ec4-444b-f1c8-e954d2540b12"
      },
      "execution_count": 6,
      "outputs": [
        {
          "output_type": "execute_result",
          "data": {
            "text/plain": [
              "array([[3, 4, 4],\n",
              "       [2, 2, 4],\n",
              "       [2, 3, 2]])"
            ]
          },
          "metadata": {},
          "execution_count": 6
        }
      ]
    },
    {
      "cell_type": "code",
      "source": [
        "arr1 - arr2"
      ],
      "metadata": {
        "colab": {
          "base_uri": "https://localhost:8080/"
        },
        "id": "SeXsVRNNM-Kw",
        "outputId": "3182183b-1e08-4173-8eb6-7c0b54280285"
      },
      "execution_count": 7,
      "outputs": [
        {
          "output_type": "execute_result",
          "data": {
            "text/plain": [
              "array([[-1,  0,  0],\n",
              "       [ 0,  0,  0],\n",
              "       [ 0, -1,  0]])"
            ]
          },
          "metadata": {},
          "execution_count": 7
        }
      ]
    },
    {
      "cell_type": "code",
      "source": [
        "arr1* arr2"
      ],
      "metadata": {
        "colab": {
          "base_uri": "https://localhost:8080/"
        },
        "id": "vsXrWMtmNBDl",
        "outputId": "369bede2-f939-4060-8905-06428230c2f3"
      },
      "execution_count": 8,
      "outputs": [
        {
          "output_type": "execute_result",
          "data": {
            "text/plain": [
              "array([[2, 4, 4],\n",
              "       [1, 1, 4],\n",
              "       [1, 2, 1]])"
            ]
          },
          "metadata": {},
          "execution_count": 8
        }
      ]
    },
    {
      "cell_type": "code",
      "source": [
        "arr1/arr2"
      ],
      "metadata": {
        "colab": {
          "base_uri": "https://localhost:8080/"
        },
        "id": "8vHSMSAgNEvJ",
        "outputId": "b018efaa-d538-4c44-d9ef-0bfbbd3eb72d"
      },
      "execution_count": 9,
      "outputs": [
        {
          "output_type": "execute_result",
          "data": {
            "text/plain": [
              "array([[0.5, 1. , 1. ],\n",
              "       [1. , 1. , 1. ],\n",
              "       [1. , 0.5, 1. ]])"
            ]
          },
          "metadata": {},
          "execution_count": 9
        }
      ]
    },
    {
      "cell_type": "markdown",
      "source": [
        "8. Use NumPy to create a 5x5 identity matrix, then extract its diagonal elements."
      ],
      "metadata": {
        "id": "2W0JzfCKNL6O"
      }
    },
    {
      "cell_type": "code",
      "source": [
        "import numpy as np\n",
        "r = np.eye(5)\n",
        "r"
      ],
      "metadata": {
        "colab": {
          "base_uri": "https://localhost:8080/"
        },
        "id": "xOX2z7aaOh0V",
        "outputId": "276544a9-c67a-4756-efc5-8bc85e407f9e"
      },
      "execution_count": 14,
      "outputs": [
        {
          "output_type": "execute_result",
          "data": {
            "text/plain": [
              "array([[1., 0., 0., 0., 0.],\n",
              "       [0., 1., 0., 0., 0.],\n",
              "       [0., 0., 1., 0., 0.],\n",
              "       [0., 0., 0., 1., 0.],\n",
              "       [0., 0., 0., 0., 1.]])"
            ]
          },
          "metadata": {},
          "execution_count": 14
        }
      ]
    },
    {
      "cell_type": "code",
      "source": [
        "arr2 = np.diag(r)\n",
        "arr2"
      ],
      "metadata": {
        "colab": {
          "base_uri": "https://localhost:8080/"
        },
        "id": "l9rkGiBtQHeO",
        "outputId": "a776441f-40b9-4145-d58a-03469999e897"
      },
      "execution_count": 16,
      "outputs": [
        {
          "output_type": "execute_result",
          "data": {
            "text/plain": [
              "array([1., 1., 1., 1., 1.])"
            ]
          },
          "metadata": {},
          "execution_count": 16
        }
      ]
    },
    {
      "cell_type": "markdown",
      "source": [
        "9. Generate a NumPy array of 100 random integers between 0 and 1000. Find and display all prime numbers in\n",
        "this array."
      ],
      "metadata": {
        "id": "S41OwdTbRD8w"
      }
    },
    {
      "cell_type": "code",
      "source": [
        "rand_vals = np.random.randint(0, 1001, size=100)\n",
        "rand_vals"
      ],
      "metadata": {
        "colab": {
          "base_uri": "https://localhost:8080/"
        },
        "id": "XrdSSn14Q8ou",
        "outputId": "415ecc6d-a772-4e72-e839-8b9a99107402"
      },
      "execution_count": 18,
      "outputs": [
        {
          "output_type": "execute_result",
          "data": {
            "text/plain": [
              "array([1000,  548,  103,  362,  668,  556,  571,  825,   89,  550,  413,\n",
              "        308,  904,  373,  239,  731,  970,  731,  305,    3,   27,  160,\n",
              "        337,  888,  934,  249,  996,  802,  938,   57,  964,  752,  483,\n",
              "        826,  316,  432,  878,  208,  382,  898,  824,   80,  249,  570,\n",
              "        780,  565,  947,  754,  514,  922,  287,    2,  352,  746,  745,\n",
              "        406,  342,  244,  891,   97,  687,  288,  371,  991,  876,  936,\n",
              "        280,  673,  855,  715,  887,  160,  885,  388,  843,  319,  372,\n",
              "        926,  327,   30,  718,  937,    1,  499,  391,  256,  436,  837,\n",
              "        515,  823,  711,  212,  721,  937,  605,  989,  935,  626,    6,\n",
              "        928])"
            ]
          },
          "metadata": {},
          "execution_count": 18
        }
      ]
    },
    {
      "cell_type": "markdown",
      "source": [
        "10. Create a NumPy array representing daily temperatures for a month. Calculate and display the weekly\n"
      ],
      "metadata": {
        "id": "Syp7l5d2TjtV"
      }
    },
    {
      "cell_type": "code",
      "source": [],
      "metadata": {
        "id": "QWSXeFNPTiRU"
      },
      "execution_count": null,
      "outputs": []
    },
    {
      "cell_type": "code",
      "source": [],
      "metadata": {
        "id": "NStN4LmaSUeS"
      },
      "execution_count": null,
      "outputs": []
    }
  ]
}